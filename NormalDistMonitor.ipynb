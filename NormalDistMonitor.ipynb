{
 "cells": [
  {
   "cell_type": "code",
   "execution_count": 3,
   "metadata": {},
   "outputs": [
    {
     "data": {
      "text/plain": "         代码     名称  最新价  涨跌额  涨跌幅   买入   卖出   昨收   今开  \\\n616  sh512760  芯片ETF   1.012   0.019   1.913  1.011  1.012  0.993  0.991   \n\n      最高   最低     成交量     成交额  \n616  1.023  0.989  544837940  549735693  ",
      "text/html": "<div>\n<style scoped>\n    .dataframe tbody tr th:only-of-type {\n        vertical-align: middle;\n    }\n\n    .dataframe tbody tr th {\n        vertical-align: top;\n    }\n\n    .dataframe thead th {\n        text-align: right;\n    }\n</style>\n<table border=\"1\" class=\"dataframe\">\n  <thead>\n    <tr style=\"text-align: right;\">\n      <th></th>\n      <th>代码</th>\n      <th>名称</th>\n      <th>最新价</th>\n      <th>涨跌额</th>\n      <th>涨跌幅</th>\n      <th>买入</th>\n      <th>卖出</th>\n      <th>昨收</th>\n      <th>今开</th>\n      <th>最高</th>\n      <th>最低</th>\n      <th>成交量</th>\n      <th>成交额</th>\n    </tr>\n  </thead>\n  <tbody>\n    <tr>\n      <th>616</th>\n      <td>sh512760</td>\n      <td>芯片ETF</td>\n      <td>1.012</td>\n      <td>0.019</td>\n      <td>1.913</td>\n      <td>1.011</td>\n      <td>1.012</td>\n      <td>0.993</td>\n      <td>0.991</td>\n      <td>1.023</td>\n      <td>0.989</td>\n      <td>544837940</td>\n      <td>549735693</td>\n    </tr>\n  </tbody>\n</table>\n</div>"
     },
     "execution_count": 3,
     "metadata": {},
     "output_type": "execute_result"
    }
   ],
   "source": [
    "import akshare as ak\n",
    "import pandas as pd\n",
    "import StockConstant\n",
    "import numpy as np\n",
    "pd.set_option('display.unicode.ambiguous_as_wide', True)\n",
    "pd.set_option('display.unicode.east_asian_width', True)\n",
    "\n",
    "class DataPuller():\n",
    "    A_STOCK_FILTER_START_STRING = ['600', '00', '603', '601', '605']\n",
    "\n",
    "    def __init__(self):\n",
    "        pass\n",
    "    \n",
    "    def pullAllStockData(self):\n",
    "        stock_zh_a_spot_em_df = ak.stock_zh_a_spot_em()\n",
    "        return stock_zh_a_spot_em_df\n",
    "\n",
    "    def pullAStockData(self):\n",
    "        stock_zh_a_spot_em_df = ak.stock_zh_a_spot_em()\n",
    "        stock_zh_a_spot_em_df_filter = pd.concat([stock_zh_a_spot_em_df[stock_zh_a_spot_em_df.代码.str.startswith(start_str)] for start_str in self.A_STOCK_FILTER_START_STRING], axis=0)\n",
    "        return stock_zh_a_spot_em_df_filter\n",
    "\n",
    "    def pullIndexData(self):\n",
    "        stock_zh_index_spot_df = ak.stock_zh_index_spot()\n",
    "        return stock_zh_index_spot_df\n",
    "    \n",
    "    def pullFundData(self):\n",
    "        \"\"\"\n",
    "        输入参数: str symbol=\"LOF基金\"; choice of {\"封闭式基金\", \"ETF基金\", \"LOF基金\"}\n",
    "        \"\"\"\n",
    "        return ak.fund_etf_category_sina(symbol=\"ETF基金\")\n",
    "\n",
    "dataPuller = DataPuller()\n",
    "fundData = dataPuller.pullFundData()\n",
    "fundData[fundData[StockConstant.COL_CODE]==StockConstant.XINPIAN_ETF_CODE]"
   ]
  },
  {
   "cell_type": "code",
   "execution_count": 73,
   "outputs": [
    {
     "data": {
      "text/plain": "         代码         名称  最新价  涨跌额  涨跌幅   买入   卖出   昨收  \\\n104  sz159864    光伏50ETF   0.889  -0.008  -0.892  0.889  0.890  0.897   \n105  sz159863  光伏ETF基金   0.936  -0.007  -0.742  0.936  0.937  0.943   \n110  sz159857      光伏ETF   1.199  -0.012  -0.991  1.199  1.200  1.211   \n265  sz159618  光伏ETF华安   1.151  -0.006  -0.519  1.145  1.151  1.157   \n273  sz159609  光伏龙头ETF   0.834  -0.009  -1.068  0.833  0.834  0.843   \n346  sh560980  光伏ETF龙头   0.971  -0.009  -0.918  0.971  0.973  0.980   \n414  sh516880    光伏50ETF   1.182  -0.007  -0.589  1.182  1.183  1.189   \n457  sh516290  光伏ETF基金   0.879  -0.011  -1.236  0.877  0.878  0.890   \n464  sh516180  光伏ETF平安   1.175  -0.013  -1.094  1.175  1.176  1.188   \n495  sh515790      光伏ETF   1.429  -0.012  -0.833  1.429  1.430  1.441   \n\n      今开   最高   最低     成交量     成交额  \n104  0.895  0.899  0.880   38608600   34300997  \n105  0.942  0.948  0.928   22459600   21059123  \n110  1.209  1.213  1.186  169756300  203570866  \n265  1.157  1.161  1.135   12146201   13920956  \n273  0.843  0.844  0.824   69637500   57957977  \n346  0.976  0.984  0.956    6328000    6134085  \n414  1.189  1.194  1.164   51037096   60131362  \n457  0.886  0.890  0.870   16630900   14598132  \n464  1.188  1.190  1.164    9372700   11017165  \n495  1.437  1.445  1.412  481430744  687576766  ",
      "text/html": "<div>\n<style scoped>\n    .dataframe tbody tr th:only-of-type {\n        vertical-align: middle;\n    }\n\n    .dataframe tbody tr th {\n        vertical-align: top;\n    }\n\n    .dataframe thead th {\n        text-align: right;\n    }\n</style>\n<table border=\"1\" class=\"dataframe\">\n  <thead>\n    <tr style=\"text-align: right;\">\n      <th></th>\n      <th>代码</th>\n      <th>名称</th>\n      <th>最新价</th>\n      <th>涨跌额</th>\n      <th>涨跌幅</th>\n      <th>买入</th>\n      <th>卖出</th>\n      <th>昨收</th>\n      <th>今开</th>\n      <th>最高</th>\n      <th>最低</th>\n      <th>成交量</th>\n      <th>成交额</th>\n    </tr>\n  </thead>\n  <tbody>\n    <tr>\n      <th>104</th>\n      <td>sz159864</td>\n      <td>光伏50ETF</td>\n      <td>0.889</td>\n      <td>-0.008</td>\n      <td>-0.892</td>\n      <td>0.889</td>\n      <td>0.890</td>\n      <td>0.897</td>\n      <td>0.895</td>\n      <td>0.899</td>\n      <td>0.880</td>\n      <td>38608600</td>\n      <td>34300997</td>\n    </tr>\n    <tr>\n      <th>105</th>\n      <td>sz159863</td>\n      <td>光伏ETF基金</td>\n      <td>0.936</td>\n      <td>-0.007</td>\n      <td>-0.742</td>\n      <td>0.936</td>\n      <td>0.937</td>\n      <td>0.943</td>\n      <td>0.942</td>\n      <td>0.948</td>\n      <td>0.928</td>\n      <td>22459600</td>\n      <td>21059123</td>\n    </tr>\n    <tr>\n      <th>110</th>\n      <td>sz159857</td>\n      <td>光伏ETF</td>\n      <td>1.199</td>\n      <td>-0.012</td>\n      <td>-0.991</td>\n      <td>1.199</td>\n      <td>1.200</td>\n      <td>1.211</td>\n      <td>1.209</td>\n      <td>1.213</td>\n      <td>1.186</td>\n      <td>169756300</td>\n      <td>203570866</td>\n    </tr>\n    <tr>\n      <th>265</th>\n      <td>sz159618</td>\n      <td>光伏ETF华安</td>\n      <td>1.151</td>\n      <td>-0.006</td>\n      <td>-0.519</td>\n      <td>1.145</td>\n      <td>1.151</td>\n      <td>1.157</td>\n      <td>1.157</td>\n      <td>1.161</td>\n      <td>1.135</td>\n      <td>12146201</td>\n      <td>13920956</td>\n    </tr>\n    <tr>\n      <th>273</th>\n      <td>sz159609</td>\n      <td>光伏龙头ETF</td>\n      <td>0.834</td>\n      <td>-0.009</td>\n      <td>-1.068</td>\n      <td>0.833</td>\n      <td>0.834</td>\n      <td>0.843</td>\n      <td>0.843</td>\n      <td>0.844</td>\n      <td>0.824</td>\n      <td>69637500</td>\n      <td>57957977</td>\n    </tr>\n    <tr>\n      <th>346</th>\n      <td>sh560980</td>\n      <td>光伏ETF龙头</td>\n      <td>0.971</td>\n      <td>-0.009</td>\n      <td>-0.918</td>\n      <td>0.971</td>\n      <td>0.973</td>\n      <td>0.980</td>\n      <td>0.976</td>\n      <td>0.984</td>\n      <td>0.956</td>\n      <td>6328000</td>\n      <td>6134085</td>\n    </tr>\n    <tr>\n      <th>414</th>\n      <td>sh516880</td>\n      <td>光伏50ETF</td>\n      <td>1.182</td>\n      <td>-0.007</td>\n      <td>-0.589</td>\n      <td>1.182</td>\n      <td>1.183</td>\n      <td>1.189</td>\n      <td>1.189</td>\n      <td>1.194</td>\n      <td>1.164</td>\n      <td>51037096</td>\n      <td>60131362</td>\n    </tr>\n    <tr>\n      <th>457</th>\n      <td>sh516290</td>\n      <td>光伏ETF基金</td>\n      <td>0.879</td>\n      <td>-0.011</td>\n      <td>-1.236</td>\n      <td>0.877</td>\n      <td>0.878</td>\n      <td>0.890</td>\n      <td>0.886</td>\n      <td>0.890</td>\n      <td>0.870</td>\n      <td>16630900</td>\n      <td>14598132</td>\n    </tr>\n    <tr>\n      <th>464</th>\n      <td>sh516180</td>\n      <td>光伏ETF平安</td>\n      <td>1.175</td>\n      <td>-0.013</td>\n      <td>-1.094</td>\n      <td>1.175</td>\n      <td>1.176</td>\n      <td>1.188</td>\n      <td>1.188</td>\n      <td>1.190</td>\n      <td>1.164</td>\n      <td>9372700</td>\n      <td>11017165</td>\n    </tr>\n    <tr>\n      <th>495</th>\n      <td>sh515790</td>\n      <td>光伏ETF</td>\n      <td>1.429</td>\n      <td>-0.012</td>\n      <td>-0.833</td>\n      <td>1.429</td>\n      <td>1.430</td>\n      <td>1.441</td>\n      <td>1.437</td>\n      <td>1.445</td>\n      <td>1.412</td>\n      <td>481430744</td>\n      <td>687576766</td>\n    </tr>\n  </tbody>\n</table>\n</div>"
     },
     "execution_count": 73,
     "metadata": {},
     "output_type": "execute_result"
    }
   ],
   "source": [
    "fundData[fundData['名称'].str.contains(\"光伏\")]"
   ],
   "metadata": {
    "collapsed": false
   }
  },
  {
   "cell_type": "code",
   "execution_count": 87,
   "metadata": {},
   "outputs": [
    {
     "data": {
      "text/plain": "7"
     },
     "execution_count": 87,
     "metadata": {},
     "output_type": "execute_result"
    }
   ],
   "source": [
    "from datetime import datetime\n",
    "cur_datetime = datetime.today()\n",
    "cur_datetime.day"
   ]
  },
  {
   "cell_type": "code",
   "execution_count": 74,
   "outputs": [
    {
     "data": {
      "text/plain": "'sz159857'"
     },
     "execution_count": 74,
     "metadata": {},
     "output_type": "execute_result"
    }
   ],
   "source": [
    "import StockConstant\n",
    "from importlib import reload\n",
    "reload(StockConstant)\n",
    "StockConstant.GUANGFU_ETF_CODE"
   ],
   "metadata": {
    "collapsed": false
   }
  },
  {
   "cell_type": "code",
   "execution_count": 80,
   "metadata": {},
   "outputs": [
    {
     "name": "stdout",
     "output_type": "stream",
     "text": [
      "get real time data...\n"
     ]
    }
   ],
   "source": [
    "from NormalDistMonitor import EtfMonitor\n",
    "\n",
    "\n",
    "etfMonitor = EtfMonitor()\n",
    "data = etfMonitor.get_monitor_stock_real_time()"
   ]
  },
  {
   "cell_type": "code",
   "execution_count": 85,
   "outputs": [
    {
     "data": {
      "text/plain": "         代码     名称  最新价  涨跌额  涨跌幅  买入   卖出   昨收   今开  \\\n110  sz159857  光伏ETF     1.2   0.001   0.083   1.2  1.201  1.199  1.193   \n\n      最高  最低     成交量     成交额  \n110  1.215  1.19  120565930  145032630  ",
      "text/html": "<div>\n<style scoped>\n    .dataframe tbody tr th:only-of-type {\n        vertical-align: middle;\n    }\n\n    .dataframe tbody tr th {\n        vertical-align: top;\n    }\n\n    .dataframe thead th {\n        text-align: right;\n    }\n</style>\n<table border=\"1\" class=\"dataframe\">\n  <thead>\n    <tr style=\"text-align: right;\">\n      <th></th>\n      <th>代码</th>\n      <th>名称</th>\n      <th>最新价</th>\n      <th>涨跌额</th>\n      <th>涨跌幅</th>\n      <th>买入</th>\n      <th>卖出</th>\n      <th>昨收</th>\n      <th>今开</th>\n      <th>最高</th>\n      <th>最低</th>\n      <th>成交量</th>\n      <th>成交额</th>\n    </tr>\n  </thead>\n  <tbody>\n    <tr>\n      <th>110</th>\n      <td>sz159857</td>\n      <td>光伏ETF</td>\n      <td>1.2</td>\n      <td>0.001</td>\n      <td>0.083</td>\n      <td>1.2</td>\n      <td>1.201</td>\n      <td>1.199</td>\n      <td>1.193</td>\n      <td>1.215</td>\n      <td>1.19</td>\n      <td>120565930</td>\n      <td>145032630</td>\n    </tr>\n  </tbody>\n</table>\n</div>"
     },
     "execution_count": 85,
     "metadata": {},
     "output_type": "execute_result"
    }
   ],
   "source": [
    "data"
   ],
   "metadata": {
    "collapsed": false
   }
  },
  {
   "cell_type": "code",
   "execution_count": 44,
   "outputs": [
    {
     "data": {
      "text/plain": "False"
     },
     "execution_count": 44,
     "metadata": {},
     "output_type": "execute_result"
    }
   ],
   "source": [
    "chipEtfMonitor.stop()\n",
    "chipEtfMonitor.monitor_thread.is_alive()"
   ],
   "metadata": {
    "collapsed": false
   }
  },
  {
   "cell_type": "code",
   "execution_count": 20,
   "metadata": {},
   "outputs": [],
   "source": [
    "chipEtfMonitor.stop()"
   ]
  },
  {
   "cell_type": "code",
   "execution_count": 32,
   "metadata": {},
   "outputs": [
    {
     "name": "stderr",
     "output_type": "stream",
     "text": [
      "send: 'ehlo smtp.qq.com\\r\\n'\n",
      "reply: b'250-newxmesmtplogicsvrszb9-0.qq.com\\r\\n'\n",
      "reply: b'250-PIPELINING\\r\\n'\n",
      "reply: b'250-SIZE 73400320\\r\\n'\n",
      "reply: b'250-AUTH LOGIN PLAIN XOAUTH XOAUTH2\\r\\n'\n",
      "reply: b'250-AUTH=LOGIN\\r\\n'\n",
      "reply: b'250-MAILCOMPRESS\\r\\n'\n",
      "reply: b'250 8BITMIME\\r\\n'\n",
      "reply: retcode (250); Msg: b'newxmesmtplogicsvrszb9-0.qq.com\\nPIPELINING\\nSIZE 73400320\\nAUTH LOGIN PLAIN XOAUTH XOAUTH2\\nAUTH=LOGIN\\nMAILCOMPRESS\\n8BITMIME'\n",
      "send: 'AUTH PLAIN ADk1NzgzMjA2NABzc3RqaHZ4bGxwZHdiY2Jn\\r\\n'\n",
      "reply: b'235 Authentication successful\\r\\n'\n",
      "reply: retcode (235); Msg: b'Authentication successful'\n",
      "send: 'mail FROM:<957832064@qq.com> size=631\\r\\n'\n",
      "reply: b'250 OK\\r\\n'\n",
      "reply: retcode (250); Msg: b'OK'\n",
      "send: 'rcpt TO:<957832064@qq.com>\\r\\n'\n",
      "reply: b'250 OK\\r\\n'\n",
      "reply: retcode (250); Msg: b'OK'\n",
      "send: 'data\\r\\n'\n",
      "reply: b'354 End data with <CR><LF>.<CR><LF>.\\r\\n'\n",
      "reply: retcode (354); Msg: b'End data with <CR><LF>.<CR><LF>.'\n",
      "data: (354, b'End data with <CR><LF>.<CR><LF>.')\n",
      "send: b'Content-Type: multipart/mixed; boundary=\"===============1061615942562170309==\"\\r\\nMIME-Version: 1.0\\r\\nSubject: =?utf-8?b?5q2j5oCB5YiG5biD6IKh5Lu355uR5o6n562W55WlKFNFTEwp?=\\r\\nFrom: 957832064@qq.com\\r\\nTo: 957832064@qq.com\\r\\n\\r\\n--===============1061615942562170309==\\r\\nContent-Type: text/plain; charset=\"utf-8\"\\r\\nMIME-Version: 1.0\\r\\nContent-Transfer-Encoding: base64\\r\\n\\r\\nCiAgICAgICAgICAgIFNFTEzkv6Hlj7fvvIznm5HmjqfogqHnpajkv6Hmga8gIDYxNiAgICAxLjkx\\r\\nMwpOYW1lOiDmtqjot4zluYUsIGR0eXBlOiBmbG9hdDY0CgogICAgICAgICAgICBBdHRlbnRpb27v\\r\\nvJrkvaDnnJ/mo5LvvIHlj4jkuIDmrKHpgbXlvqrkuobnrZbnlaXvvIEKICAgICAgICAgICAg\\r\\n\\r\\n--===============1061615942562170309==--\\r\\n.\\r\\n'\n",
      "reply: b'250 OK: queued as.\\r\\n'\n",
      "reply: retcode (250); Msg: b'OK: queued as.'\n",
      "data: (250, b'OK: queued as.')\n",
      "send: 'quit\\r\\n'\n",
      "reply: b'221 Bye.\\r\\n'\n",
      "reply: retcode (221); Msg: b'Bye.'\n"
     ]
    }
   ],
   "source": [
    "chipEtfMonitor.send_message(ChipEtfMonitor.Signal['SELL'])"
   ]
  },
  {
   "cell_type": "code",
   "execution_count": null,
   "outputs": [],
   "source": [],
   "metadata": {
    "collapsed": false
   }
  }
 ],
 "metadata": {
  "kernelspec": {
   "display_name": "Python 3.9.0 ('Stock')",
   "language": "python",
   "name": "python3"
  },
  "language_info": {
   "codemirror_mode": {
    "name": "ipython",
    "version": 3
   },
   "file_extension": ".py",
   "mimetype": "text/x-python",
   "name": "python",
   "nbconvert_exporter": "python",
   "pygments_lexer": "ipython3",
   "version": "3.9.0"
  },
  "orig_nbformat": 4,
  "vscode": {
   "interpreter": {
    "hash": "ddc0d78c9c7f88934308a9d43f424f0e8e9dc5883843a7c634c2ffd132a8c45a"
   }
  }
 },
 "nbformat": 4,
 "nbformat_minor": 2
}
